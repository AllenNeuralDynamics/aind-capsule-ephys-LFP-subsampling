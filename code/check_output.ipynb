{
 "cells": [
  {
   "cell_type": "code",
   "execution_count": 1,
   "metadata": {},
   "outputs": [],
   "source": [
    "import zarr"
   ]
  },
  {
   "cell_type": "code",
   "execution_count": 12,
   "metadata": {},
   "outputs": [],
   "source": [
    "TEMPORAL_SUBSAMPLING_FACTOR = 2"
   ]
  },
  {
   "cell_type": "code",
   "execution_count": 14,
   "metadata": {},
   "outputs": [],
   "source": [
    "raw_probe_lfp = zarr.open('/root/capsule/data/ecephys_674562_2023-10-05_12-13-56/ecephys_compressed/experiment1_Record Node 102#Neuropix-PXI-100.ProbeA-LFP.zarr', mode='r')\n",
    "subsampled_probe_lfp = zarr.open('/root/capsule/data/ecephys_674562_2023-10-05_LFP_Test/ecephys_674562_2023-10-05_12-13-56_ProbeA-LFP/ProbeA-LFP_lfp_subsampled.zarr', mode='r')"
   ]
  },
  {
   "cell_type": "code",
   "execution_count": 15,
   "metadata": {},
   "outputs": [
    {
     "data": {
      "text/plain": [
       "((17626104, 384), (8813052, 96))"
      ]
     },
     "execution_count": 15,
     "metadata": {},
     "output_type": "execute_result"
    }
   ],
   "source": [
    "raw_probe_lfp['traces_seg0'].shape, subsampled_probe_lfp['traces_seg0'].shape"
   ]
  },
  {
   "cell_type": "code",
   "execution_count": 16,
   "metadata": {},
   "outputs": [],
   "source": [
    "assert raw_probe_lfp['traces_seg0'].shape[0] / TEMPORAL_SUBSAMPLING_FACTOR == subsampled_probe_lfp['traces_seg0'].shape[0]"
   ]
  },
  {
   "cell_type": "code",
   "execution_count": null,
   "metadata": {},
   "outputs": [],
   "source": []
  }
 ],
 "metadata": {
  "kernelspec": {
   "display_name": "base",
   "language": "python",
   "name": "python3"
  },
  "language_info": {
   "codemirror_mode": {
    "name": "ipython",
    "version": 3
   },
   "file_extension": ".py",
   "mimetype": "text/x-python",
   "name": "python",
   "nbconvert_exporter": "python",
   "pygments_lexer": "ipython3",
   "version": "3.9.12"
  },
  "orig_nbformat": 4,
  "vscode": {
   "interpreter": {
    "hash": "d4d1e4263499bec80672ea0156c357c1ee493ec2b1c70f0acce89fc37c4a6abe"
   }
  }
 },
 "nbformat": 4,
 "nbformat_minor": 2
}
